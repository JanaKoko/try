{
 "cells": [
  {
   "cell_type": "markdown",
   "metadata": {},
   "source": [
    "## Импорт нужных модулей"
   ]
  },
  {
   "cell_type": "code",
   "execution_count": 10,
   "metadata": {},
   "outputs": [],
   "source": [
    "from pymystem3 import Mystem\n",
    "m = Mystem()\n",
    "import json\n",
    "from pymorphy2 import MorphAnalyzer\n",
    "morph = MorphAnalyzer()\n",
    "import nltk\n",
    "from nltk.tokenize import word_tokenize\n",
    "import jsonlines\n",
    "import collections as c\n",
    "import pandas as pd"
   ]
  },
  {
   "cell_type": "markdown",
   "metadata": {},
   "source": [
    "## Пункт 2\n",
    "Обработать книгу с майстем\n",
    "+ открываем и читаем файл\n",
    "+ лемматизируем и засекаем время\n",
    "+ записываем в файл"
   ]
  },
  {
   "cell_type": "code",
   "execution_count": null,
   "metadata": {},
   "outputs": [],
   "source": [
    "with open ('mumu.txt', encoding = 'utf-8') as f:\n",
    "    big_text = f.read()\n",
    "%time lemmas = m.lemmatize(big_text)\n",
    "with open('lemmas.json', 'a', encoding='utf-8') as j:\n",
    "    json.dump(lemmas, j, ensure_ascii = False)"
   ]
  },
  {
   "cell_type": "markdown",
   "metadata": {},
   "source": [
    "## Пункт 3\n",
    "Обработать книгу с pymorphy\n",
    "+ токенизируем и засекаем время\n",
    "+ запускаем цикл, в котором:\n",
    "1. для каждого слова делаем разбор\n",
    "2. выбираем нужную информацию\n",
    "3. записываем е в файл"
   ]
  },
  {
   "cell_type": "code",
   "execution_count": 33,
   "metadata": {},
   "outputs": [
    {
     "name": "stdout",
     "output_type": "stream",
     "text": [
      "Wall time: 64.6 ms\n"
     ]
    }
   ],
   "source": [
    "%time tok = word_tokenize(big_text)\n",
    "for w in tok:\n",
    "    p = morph.parse(w)[0]\n",
    "    #my_tag = p.tag.POS\n",
    "    #print(my_tag)\n",
    "    info = {'lemma' : p.normal_form, 'word': p.word, 'pos': p.tag.POS}\n",
    "    #print(info)\n",
    "    with jsonlines.open('info.jsonl', mode='a') as writer:\n",
    "        writer.write(info)"
   ]
  },
  {
   "cell_type": "markdown",
   "metadata": {},
   "source": [
    "? что это такое ?"
   ]
  },
  {
   "cell_type": "code",
   "execution_count": 27,
   "metadata": {},
   "outputs": [
    {
     "name": "stdout",
     "output_type": "stream",
     "text": [
      "Wall time: 87.2 ms\n"
     ]
    }
   ],
   "source": [
    "%time tok = word_tokenize(big_text)\n",
    "lemmas = []\n",
    "for w in tok:\n",
    "    p = morph.parse(w)[0]\n",
    "    lemmas.append(list(p))"
   ]
  },
  {
   "cell_type": "markdown",
   "metadata": {},
   "source": [
    "## Пункт 4\n",
    "Какую долю слов составляет каждая часть речи?\n",
    "+ создаём словарь, где ключ — часть речи, значение — список слов\n",
    "+ считаем общее число слов\n",
    "+ считаем процент и делаем список списков\n",
    "+ строим таблицу"
   ]
  },
  {
   "cell_type": "code",
   "execution_count": 46,
   "metadata": {},
   "outputs": [
    {
     "data": {
      "text/html": [
       "<div>\n",
       "<style scoped>\n",
       "    .dataframe tbody tr th:only-of-type {\n",
       "        vertical-align: middle;\n",
       "    }\n",
       "\n",
       "    .dataframe tbody tr th {\n",
       "        vertical-align: top;\n",
       "    }\n",
       "\n",
       "    .dataframe thead th {\n",
       "        text-align: right;\n",
       "    }\n",
       "</style>\n",
       "<table border=\"1\" class=\"dataframe\">\n",
       "  <thead>\n",
       "    <tr style=\"text-align: right;\">\n",
       "      <th></th>\n",
       "      <th>POS</th>\n",
       "      <th>Percentage</th>\n",
       "    </tr>\n",
       "  </thead>\n",
       "  <tbody>\n",
       "    <tr>\n",
       "      <th>0</th>\n",
       "      <td>ADJF</td>\n",
       "      <td>7.527184</td>\n",
       "    </tr>\n",
       "    <tr>\n",
       "      <th>1</th>\n",
       "      <td>ADJS</td>\n",
       "      <td>0.646794</td>\n",
       "    </tr>\n",
       "    <tr>\n",
       "      <th>2</th>\n",
       "      <td>ADVB</td>\n",
       "      <td>5.614923</td>\n",
       "    </tr>\n",
       "    <tr>\n",
       "      <th>3</th>\n",
       "      <td>COMP</td>\n",
       "      <td>0.168729</td>\n",
       "    </tr>\n",
       "    <tr>\n",
       "      <th>4</th>\n",
       "      <td>CONJ</td>\n",
       "      <td>7.649044</td>\n",
       "    </tr>\n",
       "    <tr>\n",
       "      <th>5</th>\n",
       "      <td>GRND</td>\n",
       "      <td>0.853018</td>\n",
       "    </tr>\n",
       "    <tr>\n",
       "      <th>6</th>\n",
       "      <td>INFN</td>\n",
       "      <td>1.593551</td>\n",
       "    </tr>\n",
       "    <tr>\n",
       "      <th>7</th>\n",
       "      <td>INTJ</td>\n",
       "      <td>0.149981</td>\n",
       "    </tr>\n",
       "    <tr>\n",
       "      <th>8</th>\n",
       "      <td>NOUN</td>\n",
       "      <td>18.907012</td>\n",
       "    </tr>\n",
       "    <tr>\n",
       "      <th>9</th>\n",
       "      <td>NPRO</td>\n",
       "      <td>7.367829</td>\n",
       "    </tr>\n",
       "    <tr>\n",
       "      <th>10</th>\n",
       "      <td>NUMR</td>\n",
       "      <td>0.346832</td>\n",
       "    </tr>\n",
       "    <tr>\n",
       "      <th>11</th>\n",
       "      <td>None</td>\n",
       "      <td>21.447319</td>\n",
       "    </tr>\n",
       "    <tr>\n",
       "      <th>12</th>\n",
       "      <td>PRCL</td>\n",
       "      <td>5.024372</td>\n",
       "    </tr>\n",
       "    <tr>\n",
       "      <th>13</th>\n",
       "      <td>PRED</td>\n",
       "      <td>0.168729</td>\n",
       "    </tr>\n",
       "    <tr>\n",
       "      <th>14</th>\n",
       "      <td>PREP</td>\n",
       "      <td>9.167604</td>\n",
       "    </tr>\n",
       "    <tr>\n",
       "      <th>15</th>\n",
       "      <td>PRTF</td>\n",
       "      <td>0.487439</td>\n",
       "    </tr>\n",
       "    <tr>\n",
       "      <th>16</th>\n",
       "      <td>PRTS</td>\n",
       "      <td>0.074991</td>\n",
       "    </tr>\n",
       "    <tr>\n",
       "      <th>17</th>\n",
       "      <td>VERB</td>\n",
       "      <td>12.804649</td>\n",
       "    </tr>\n",
       "  </tbody>\n",
       "</table>\n",
       "</div>"
      ],
      "text/plain": [
       "     POS  Percentage\n",
       "0   ADJF    7.527184\n",
       "1   ADJS    0.646794\n",
       "2   ADVB    5.614923\n",
       "3   COMP    0.168729\n",
       "4   CONJ    7.649044\n",
       "5   GRND    0.853018\n",
       "6   INFN    1.593551\n",
       "7   INTJ    0.149981\n",
       "8   NOUN   18.907012\n",
       "9   NPRO    7.367829\n",
       "10  NUMR    0.346832\n",
       "11  None   21.447319\n",
       "12  PRCL    5.024372\n",
       "13  PRED    0.168729\n",
       "14  PREP    9.167604\n",
       "15  PRTF    0.487439\n",
       "16  PRTS    0.074991\n",
       "17  VERB   12.804649"
      ]
     },
     "execution_count": 46,
     "metadata": {},
     "output_type": "execute_result"
    }
   ],
   "source": [
    "pos = c.defaultdict(list)\n",
    "summ = 0\n",
    "my_data = []\n",
    "for w in tok:\n",
    "    p = morph.parse(w)[0]\n",
    "    part = str(p.tag.POS)\n",
    "    pos[part].append(w)\n",
    "    summ += 1\n",
    "for p in sorted(pos.keys()):\n",
    "    perc = (len(pos[p])/summ)*100\n",
    "    my_data.append([p, perc])\n",
    "df = pd.DataFrame(my_data, columns=[\"POS\", \"Percentage\"])\n",
    "df"
   ]
  },
  {
   "cell_type": "markdown",
   "metadata": {},
   "source": [
    "Найдите топ-20 (по частотности) глаголов и наречий\n",
    "+ вычленяем список всех глаголов из словаря\n",
    "+ делаем частотный словарь и печатаем его\n",
    "+ то же для наречий"
   ]
  },
  {
   "cell_type": "code",
   "execution_count": 7,
   "metadata": {},
   "outputs": [
    {
     "name": "stdout",
     "output_type": "stream",
     "text": [
      "[('было', 34), ('был', 25), ('была', 10), ('вышел', 9), ('начал', 8), ('глядел', 7), ('продолжал', 7), ('мог', 6), ('стал', 6), ('пошел', 6), ('посмотрел', 6), ('подумал', 6), ('возразил', 6), ('вернулся', 6), ('хотел', 5), ('поставил', 5), ('убьет', 5), ('заметил', 5), ('видел', 5), ('отправился', 5)]\n",
      "[('только', 39), ('опять', 19), ('вдруг', 19), ('уже', 18), ('потом', 16), ('очень', 16), ('наконец', 13), ('тотчас', 13), ('теперь', 8), ('никогда', 8), ('раз', 8), ('сперва', 8), ('тут', 8), ('вместе', 8), ('по-прежнему', 7), ('где', 6), ('несколько', 6), ('назад', 6), ('вовсе', 5), ('вон', 5)]\n"
     ]
    }
   ],
   "source": [
    "verb = pos['VERB']\n",
    "count_v = c.Counter(verb)\n",
    "print(count_v.most_common(20))\n",
    "adverb = pos['ADVB']\n",
    "count_a = c.Counter(adverb)\n",
    "print(count_a.most_common(20))"
   ]
  },
  {
   "cell_type": "markdown",
   "metadata": {},
   "source": [
    "## Пункт 5\n",
    "топ-25 биграмм и триграмм\n",
    "+ приводим слова к нижнему регистру, убираем знаки препинания\n",
    "+ ищем биграммы и изменяем их в список\n",
    "+ делаем частотный словарь и печатаем его\n",
    "+ то же для триграмм"
   ]
  },
  {
   "cell_type": "code",
   "execution_count": 9,
   "metadata": {
    "scrolled": true
   },
   "outputs": [
    {
     "name": "stdout",
     "output_type": "stream",
     "text": [
      "[(('гаврила', 'андреич'), 16), (('у', 'него'), 13), (('и', 'не'), 10), (('как', 'бы'), 10), (('у', 'ней'), 10), (('на', 'него'), 9), (('на', 'нее'), 9), (('в', 'доме'), 9), (('к', 'себе'), 9), (('к', 'ней'), 9), (('с', 'ним'), 8), (('на', 'дворе'), 8), (('так', 'и'), 7), (('только', 'что'), 6), (('и', 'он'), 6), (('а', 'что'), 6), (('как', 'будто'), 6), (('в', 'свою'), 6), (('не', 'было'), 6), (('ведь', 'он'), 6), (('ну', 'да'), 6), (('на', 'себя'), 6), (('что', 'он'), 6), (('и', 'только'), 6), (('вместе', 'с'), 6)] [(('в', 'свою', 'каморку'), 5), (('себя', 'в', 'грудь'), 3), (('на', 'другой', 'день'), 3), (('в', 'этом', 'случае'), 3), (('к', 'себе', 'в'), 3), (('герасим', 'вышел', 'из'), 3), (('на', 'другое', 'утро'), 3), (('метлу', 'и', 'лопату'), 2), (('у', 'него', 'было'), 2), (('было', 'готово', 'и'), 2), (('на', 'дворе', 'у'), 2), (('у', 'него', 'как'), 2), (('во', 'все', 'стороны'), 2), (('а', 'то', 'беда'), 2), (('всё', 'же', 'он'), 2), (('на', 'левой', 'щеке'), 2), (('у', 'ней', 'в'), 2), (('ни', 'с', 'кем'), 2), (('с', 'кем', 'не'), 2), (('схватил', 'ее', 'за'), 2), (('его', 'к', 'себе'), 2), (('в', 'тот', 'же'), 2), (('с', 'другой', 'стороны'), 2), (('согрешил', 'я', 'грешный'), 2), (('себя', 'ну', 'посмотри'), 2)]\n"
     ]
    }
   ],
   "source": [
    "words = [w.lower() for w in tok if w.isalpha()]\n",
    "wordsbigrm = nltk.bigrams(words)\n",
    "bg = list(wordsbigrm)\n",
    "cb = c.Counter(bg)\n",
    "wordstrigrm = nltk.trigrams(words)\n",
    "tg = list(wordstrigrm)\n",
    "ct = c.Counter(tg)\n",
    "print(cb.most_common(25), ct.most_common(25))"
   ]
  }
 ],
 "metadata": {
  "kernelspec": {
   "display_name": "Python 3",
   "language": "python",
   "name": "python3"
  },
  "language_info": {
   "codemirror_mode": {
    "name": "ipython",
    "version": 3
   },
   "file_extension": ".py",
   "mimetype": "text/x-python",
   "name": "python",
   "nbconvert_exporter": "python",
   "pygments_lexer": "ipython3",
   "version": "3.8.6rc1"
  }
 },
 "nbformat": 4,
 "nbformat_minor": 4
}
